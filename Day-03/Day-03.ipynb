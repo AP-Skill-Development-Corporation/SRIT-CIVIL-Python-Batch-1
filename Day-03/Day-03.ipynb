{
 "cells": [
  {
   "cell_type": "markdown",
   "id": "cab011ac",
   "metadata": {},
   "source": [
    "##  Operators:\n",
    "    - Arithmetic Operators => +,-,*,/,%,//(floor Division),**(pow) \n",
    "    - Relational Operators => >,<,>=,<=,==,!=\n",
    "    - Assignment Operators => +=,-=,/=,//=,*=\n",
    "    - Logical Operators => AND,OR,NOT \n",
    "    - Bitwise Operators => &&,||,!,~,>>,<<\n",
    "    - Membership Operators => in,not in \n",
    "    - Identity Operators => is,is not"
   ]
  },
  {
   "cell_type": "markdown",
   "id": "ad3bff5b",
   "metadata": {},
   "source": [
    "## Conditional Statements:\n",
    "    - To Check whether a given condition is either True or False\n",
    "    - if => single case\n",
    "    - if-else => two cases\n",
    "    - Nested if => 3 or more cases\n",
    "    - elif => 3 or more cases    "
   ]
  },
  {
   "cell_type": "markdown",
   "id": "d6f67e99",
   "metadata": {},
   "source": [
    "## If:\n",
    "    - Syntax:\n",
    "        if condition:\n",
    "            //stmnts"
   ]
  },
  {
   "cell_type": "code",
   "execution_count": 12,
   "id": "a3172a34",
   "metadata": {},
   "outputs": [
    {
     "name": "stdout",
     "output_type": "stream",
     "text": [
      "Enter a number: 200\n",
      "Entered number is 200 is equal to 200\n"
     ]
    }
   ],
   "source": [
    "n = int(input(\"Enter a number: \"))\n",
    "if n == 200:\n",
    "    print(\"Entered number is {} is equal to 200\".format(n))"
   ]
  },
  {
   "cell_type": "code",
   "execution_count": 13,
   "id": "f33d4695",
   "metadata": {},
   "outputs": [
    {
     "name": "stdout",
     "output_type": "stream",
     "text": [
      "Enter Your Name: somu\n"
     ]
    }
   ],
   "source": [
    "m = input(\"Enter Your Name: \")\n",
    "if m == \"ramesh\":\n",
    "    print(\"Entered Name is: {} and it is equal to Ramesh\".format(m))"
   ]
  },
  {
   "cell_type": "markdown",
   "id": "5b1dab3d",
   "metadata": {},
   "source": [
    "## If-else:\n",
    "    - Syntax: () => optional\n",
    "        if condition:\n",
    "            //stmnt-1\n",
    "        else:\n",
    "            //stmnt-2"
   ]
  },
  {
   "cell_type": "code",
   "execution_count": 17,
   "id": "cd01ccfe",
   "metadata": {},
   "outputs": [
    {
     "name": "stdout",
     "output_type": "stream",
     "text": [
      "Enter a number: 40\n",
      "Entered Number is 40 not in between a range of 10 and 20\n"
     ]
    }
   ],
   "source": [
    "n = int(input(\"Enter a number: \"))\n",
    "if n>=10 and n<=20:\n",
    "    print(\"Entered number is {} in between a range of 10 and 20\"\n",
    "          .format(n))\n",
    "else:\n",
    "    print(\"Entered Number is {} not in between a range of 10 and 20\"\n",
    "         .format(n))"
   ]
  },
  {
   "cell_type": "markdown",
   "id": "d2707f17",
   "metadata": {},
   "source": [
    "### Nested if:\n",
    "    - Syntax:\n",
    "        if condition-1:\n",
    "            if condition-2:\n",
    "                //stmnt-1\n",
    "            else:\n",
    "                //stmnt-2\n",
    "        else:\n",
    "            //stmnt-3\n",
    "     - Here inside and outside of else or optional cases based on user requirement we can access it."
   ]
  },
  {
   "cell_type": "code",
   "execution_count": 20,
   "id": "b7f463ff",
   "metadata": {},
   "outputs": [
    {
     "name": "stdout",
     "output_type": "stream",
     "text": [
      "Enter Your Name: ramu\n",
      "Enter Your age: 25\n",
      "Entered Name is: ramu equal to ramu and entered age is25 is not equal to 20\n"
     ]
    }
   ],
   "source": [
    "n = input(\"Enter Your Name: \")\n",
    "a = int(input(\"Enter Your age: \"))\n",
    "if n == \"ramu\":\n",
    "    if a == 20:\n",
    "        print(\"Entered Name is: {} and Your age is equal to 20\"\n",
    "              .format(n))\n",
    "    else:\n",
    "        print(\"Entered Name is: {} equal to ramu and entered age is\" \n",
    "              \"{} is not equal to 20\".format(n,a))\n",
    "else:\n",
    "    print(\"Entered Name {} is not equal to ramu\".format(n))"
   ]
  },
  {
   "cell_type": "code",
   "execution_count": 24,
   "id": "c46ab538",
   "metadata": {},
   "outputs": [
    {
     "name": "stdout",
     "output_type": "stream",
     "text": [
      "Enter username: ramu123@gmail.com\n",
      "Enter password: 123\n",
      "Welcome User ramu123@gmail.com!!\n"
     ]
    }
   ],
   "source": [
    "user = input(\"Enter username: \")\n",
    "pwd = input(\"Enter password: \")\n",
    "if user == \"ramu123@gmail.com\":\n",
    "    if pwd == \"123\":\n",
    "        print(\"Welcome User {}!!\".format(user))\n",
    "    else:\n",
    "        print(\"Enterd username is {} and your password is Invalid\"\n",
    "              .format(user))\n",
    "else:\n",
    "    print(\"Entered username {} is Invalid\".format(user))"
   ]
  },
  {
   "cell_type": "code",
   "execution_count": 28,
   "id": "2c12c119",
   "metadata": {},
   "outputs": [
    {
     "name": "stdout",
     "output_type": "stream",
     "text": [
      "-------Registration-------\n",
      "Create Username: sam@gmail.com\n",
      "Create Password: 1234\n",
      "sam@gmail.com User is Created Successfully!!!!!\n",
      "--------Login Here--------\n",
      "Enter username: sam@gmail.com\n",
      "Enter password: 1234\n",
      "Welcome User sam@gmail.com!!\n"
     ]
    }
   ],
   "source": [
    "print(\"-------Registration-------\")\n",
    "us = input(\"Create Username: \")\n",
    "pd = input(\"Create Password: \")\n",
    "print(\"{} User is Created Successfully!!!!!\".format(us))\n",
    "print(\"--------Login Here--------\")\n",
    "user = input(\"Enter username: \")\n",
    "pwd = input(\"Enter password: \")\n",
    "if user == us:\n",
    "    if pwd == pd:\n",
    "        print(\"Welcome User {}!!\".format(user))\n",
    "    else:\n",
    "        print(\"Enterd username is {} and your password is Invalid\"\n",
    "              .format(user))\n",
    "else:\n",
    "    print(\"Entered username {} is Invalid\".format(user))"
   ]
  },
  {
   "cell_type": "code",
   "execution_count": 31,
   "id": "209cfab5",
   "metadata": {},
   "outputs": [
    {
     "name": "stdout",
     "output_type": "stream",
     "text": [
      "Enter username: sample@gmail.com\n",
      "Enter password: 025\n",
      "Welcome sample@gmail.com!!!!\n"
     ]
    }
   ],
   "source": [
    "n = input(\"Enter username: \")\n",
    "if n == \"sample@gmail.com\":\n",
    "    p = input(\"Enter password: \")\n",
    "    if p == \"025\":\n",
    "        print(\"Welcome {}!!!!\".format(n))\n",
    "    else:\n",
    "        print(\"Entered Password is Invalid\")\n",
    "else:\n",
    "    print(\"Entered username {} is Invalid\".format(n))"
   ]
  },
  {
   "cell_type": "code",
   "execution_count": 33,
   "id": "4447d90b",
   "metadata": {},
   "outputs": [
    {
     "name": "stdout",
     "output_type": "stream",
     "text": [
      "-------Registration-------\n",
      "Create Username: ramu@gmail.com\n",
      "Create Password: 123\n",
      "ramu@gmail.com User is Created Successfully!!!!!\n",
      "--------Login Here--------\n",
      "Enter username: ramu@gmail.com\n",
      "Enter password: 123\n",
      "Welcome ramu@gmail.com!!!!\n"
     ]
    }
   ],
   "source": [
    "print(\"-------Registration-------\")\n",
    "us = input(\"Create Username: \")\n",
    "pd = input(\"Create Password: \")\n",
    "print(\"{} User is Created Successfully!!!!!\".format(us))\n",
    "print(\"--------Login Here--------\")\n",
    "n = input(\"Enter username: \")\n",
    "if n == us:\n",
    "    p = input(\"Enter password: \")\n",
    "    if p == pd:\n",
    "        print(\"Welcome {}!!!!\".format(n))\n",
    "    else:\n",
    "        print(\"Entered Password is Invalid\")\n",
    "else:\n",
    "    print(\"Entered username {} is Invalid\".format(n))"
   ]
  },
  {
   "cell_type": "markdown",
   "id": "b5ab4c65",
   "metadata": {},
   "source": [
    "## elif\n",
    "    - Syntax:\n",
    "       if condition-1:\n",
    "           //stmnt-1\n",
    "       elif condition-2:\n",
    "           //stmnt-2\n",
    "       elif condition-3:\n",
    "           //stmnt-3\n",
    "           |      |\n",
    "       elif condition-(n-1):\n",
    "           //stmnt-(n-1)\n",
    "       else:\n",
    "           //stmnt-n"
   ]
  },
  {
   "cell_type": "code",
   "execution_count": 42,
   "id": "9e7ac6e5",
   "metadata": {},
   "outputs": [
    {
     "name": "stdout",
     "output_type": "stream",
     "text": [
      "Enter your age: 45\n",
      "You are eligible for Voting and exceed for 27 years and you arein Younger age\n"
     ]
    }
   ],
   "source": [
    "n = int(input(\"Enter your age: \"))\n",
    "if n == 18:\n",
    "    print(\"You are Eligible for Voting\")\n",
    "elif n>18 and n>60:\n",
    "    print(\"You are eligible for Voting and exceed for {} years and you are\"\n",
    "         \"Senior Citizen\".format(n-18))\n",
    "elif n>18 and n<=60:\n",
    "    print(\"You are eligible for Voting and exceed for {} years and you are\"\n",
    "         \"in Younger age\".format(n-18))\n",
    "else:\n",
    "    print(\"You are not eligible for voting you need to wait for {} years\"\n",
    "         .format(18-n))"
   ]
  },
  {
   "cell_type": "code",
   "execution_count": null,
   "id": "cbd1d66c",
   "metadata": {},
   "outputs": [],
   "source": []
  }
 ],
 "metadata": {
  "kernelspec": {
   "display_name": "Python 3",
   "language": "python",
   "name": "python3"
  },
  "language_info": {
   "codemirror_mode": {
    "name": "ipython",
    "version": 3
   },
   "file_extension": ".py",
   "mimetype": "text/x-python",
   "name": "python",
   "nbconvert_exporter": "python",
   "pygments_lexer": "ipython3",
   "version": "3.7.5"
  }
 },
 "nbformat": 4,
 "nbformat_minor": 5
}
