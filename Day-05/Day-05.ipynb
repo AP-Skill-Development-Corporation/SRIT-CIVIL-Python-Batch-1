{
 "cells": [
  {
   "cell_type": "code",
   "execution_count": 7,
   "id": "6c18762f",
   "metadata": {},
   "outputs": [
    {
     "name": "stdout",
     "output_type": "stream",
     "text": [
      "5\n",
      "* * * * * \n",
      "* * * * * \n",
      "* * * * * \n",
      "* * * * * \n",
      "* * * * * \n"
     ]
    }
   ],
   "source": [
    "n = int(input())\n",
    "for i in range(n):\n",
    "    for j in range(n):\n",
    "        print(\"*\",end=\" \")\n",
    "    print()"
   ]
  },
  {
   "cell_type": "code",
   "execution_count": 27,
   "id": "80fdd836",
   "metadata": {},
   "outputs": [
    {
     "name": "stdout",
     "output_type": "stream",
     "text": [
      "&& ** || ** && ** && \n",
      "## ## ## ## ## ## ## \n",
      "() ** || ** () ** () \n",
      "** () || () ** [] ** \n",
      "[] ** || \n"
     ]
    }
   ],
   "source": [
    "a = 1\n",
    "for i in range(1,6):\n",
    "    for j in range(1,8):\n",
    "        if a<=31:\n",
    "            if i == 2:\n",
    "                print(\"##\",end=\" \")\n",
    "            elif j == 3:\n",
    "                print(\"||\",end=\" \")\n",
    "            elif a%2==0:\n",
    "                print(\"**\",end=\" \")\n",
    "            elif a<=10:\n",
    "                print(\"&&\",end=\" \")\n",
    "            elif a>=10 and a<=25:\n",
    "                print(\"()\",end=\" \")\n",
    "            else:\n",
    "                print(\"[]\",end=\" \")\n",
    "        else:\n",
    "            break\n",
    "        a+=1\n",
    "    print()"
   ]
  },
  {
   "cell_type": "markdown",
   "id": "4a4deab5",
   "metadata": {},
   "source": [
    "## Strings:\n",
    "    -----------\n",
    "   \n",
    "   - collection of characters.\n",
    "   - character array is called string.\n",
    "   - index position starts from 0 to size-1.\n",
    "   - using single quotes or double quotes we can write the string.\n",
    "   - To read the multilines of data we can use triple quotes."
   ]
  },
  {
   "cell_type": "code",
   "execution_count": 28,
   "id": "d7fc8da0",
   "metadata": {},
   "outputs": [
    {
     "name": "stdout",
     "output_type": "stream",
     "text": [
      "python programming\n",
      "------\n",
      "welcome to apssdc\n",
      "------\n",
      "srit college\n",
      "civil branch\n",
      "section-1\n"
     ]
    }
   ],
   "source": [
    "s1 = 'python programming'\n",
    "s2 = \"welcome to apssdc\"\n",
    "s3 ='''srit college\n",
    "civil branch\n",
    "section-1'''\n",
    "print(s1)\n",
    "print(\"------\")\n",
    "print(s2)\n",
    "print('------')\n",
    "print(s3)"
   ]
  },
  {
   "cell_type": "code",
   "execution_count": 30,
   "id": "df84a101",
   "metadata": {},
   "outputs": [
    {
     "name": "stdout",
     "output_type": "stream",
     "text": [
      "<class 'str'>\n",
      "<class 'str'>\n",
      "<class 'str'>\n"
     ]
    }
   ],
   "source": [
    "print(type(s1))\n",
    "print(type(s2))\n",
    "print(type(s3))"
   ]
  },
  {
   "cell_type": "code",
   "execution_count": 32,
   "id": "85615a20",
   "metadata": {},
   "outputs": [
    {
     "name": "stdout",
     "output_type": "stream",
     "text": [
      "python programming\n"
     ]
    }
   ],
   "source": [
    "# TO join the two strinngs we can use '+' symbal..\n",
    "s4 = \"python\"\n",
    "s5 = \"programming\"\n",
    "print(s4+' '+s5)"
   ]
  },
  {
   "cell_type": "code",
   "execution_count": 34,
   "id": "ba9f1b1c",
   "metadata": {},
   "outputs": [
    {
     "name": "stdout",
     "output_type": "stream",
     "text": [
      "hellohellohello\n"
     ]
    }
   ],
   "source": [
    "# string repetetion we can use '*' symbal\n",
    "print('hello'*3)"
   ]
  },
  {
   "cell_type": "code",
   "execution_count": 39,
   "id": "af8db545",
   "metadata": {},
   "outputs": [
    {
     "name": "stdout",
     "output_type": "stream",
     "text": [
      "False\n",
      "True\n",
      "False\n",
      "True\n",
      "False\n"
     ]
    }
   ],
   "source": [
    "# membership operators:(in,not in)-> it returns the boolean value like(True,False)\n",
    "s1 =\"data structures\"\n",
    "print('g' in s1)\n",
    "print('a' in s1)\n",
    "print('abc' in s1)\n",
    "print('abc' not in s1)\n",
    "print('d' not in s1)"
   ]
  },
  {
   "cell_type": "code",
   "execution_count": 42,
   "id": "fc2dfbf8",
   "metadata": {},
   "outputs": [
    {
     "name": "stdout",
     "output_type": "stream",
     "text": [
      "Enter string!.. python programming\n",
      "p y t h o n   p r o g r a m m i n g "
     ]
    }
   ],
   "source": [
    "# using loop ..\n",
    "s2 = input(\"Enter string!.. \")\n",
    "for i in s2:\n",
    "    print(i,end=\" \")"
   ]
  },
  {
   "cell_type": "markdown",
   "id": "8ffc10a6",
   "metadata": {},
   "source": [
    "### indexing and slicing:\n",
    "        - based on index position to get the string characters [].\n",
    "        - TO get the group of characters.\n"
   ]
  },
  {
   "cell_type": "code",
   "execution_count": 50,
   "id": "c655e709",
   "metadata": {},
   "outputs": [
    {
     "name": "stdout",
     "output_type": "stream",
     "text": [
      "s\n",
      "o\n",
      "30\n",
      "g\n",
      "i\n",
      "g\n"
     ]
    }
   ],
   "source": [
    "s1 =\"sritcollege python programming\"\n",
    "print(s1[0])# TO get the first character\n",
    "print(s1[5])\n",
    "#TO get the length of the string we can len()..\n",
    "print(len(s1))\n",
    "# To get the last character from string..\n",
    "print(s1[len(s1)-1])\n",
    "print(s1[-3])\n",
    "print(s1[-1])# TO get the last character.."
   ]
  },
  {
   "cell_type": "code",
   "execution_count": 56,
   "id": "ab19cd59",
   "metadata": {},
   "outputs": [
    {
     "name": "stdout",
     "output_type": "stream",
     "text": [
      "me to\n",
      "welc\n",
      "to apssdc\n",
      "wloet psc\n",
      "cdsspa ot emoclew\n",
      "welcome to apssdc\n"
     ]
    }
   ],
   "source": [
    "# Slicing->[start:stop:step]\n",
    "# start-> by default '0' -> It is inclusive\n",
    "# stop-> by default len(s1)-> It is exclusive.\n",
    "# step-> It is optional.\n",
    "s2 = \"welcome to apssdc\"\n",
    "print(s2[5:10])\n",
    "print(s2[:4])\n",
    "print(s2[8:])\n",
    "print(s2[::2])# TO get the alternative characters..\n",
    "print(s2[::-1])# To print the string in reverse order..\n",
    "print(s2[::])"
   ]
  },
  {
   "cell_type": "markdown",
   "id": "723cdc8a",
   "metadata": {},
   "source": [
    "### string methods"
   ]
  },
  {
   "cell_type": "code",
   "execution_count": 57,
   "id": "ccb04ebf",
   "metadata": {
    "collapsed": true
   },
   "outputs": [
    {
     "name": "stdout",
     "output_type": "stream",
     "text": [
      "['__add__', '__class__', '__contains__', '__delattr__', '__dir__', '__doc__', '__eq__', '__format__', '__ge__', '__getattribute__', '__getitem__', '__getnewargs__', '__gt__', '__hash__', '__init__', '__init_subclass__', '__iter__', '__le__', '__len__', '__lt__', '__mod__', '__mul__', '__ne__', '__new__', '__reduce__', '__reduce_ex__', '__repr__', '__rmod__', '__rmul__', '__setattr__', '__sizeof__', '__str__', '__subclasshook__', 'capitalize', 'casefold', 'center', 'count', 'encode', 'endswith', 'expandtabs', 'find', 'format', 'format_map', 'index', 'isalnum', 'isalpha', 'isascii', 'isdecimal', 'isdigit', 'isidentifier', 'islower', 'isnumeric', 'isprintable', 'isspace', 'istitle', 'isupper', 'join', 'ljust', 'lower', 'lstrip', 'maketrans', 'partition', 'replace', 'rfind', 'rindex', 'rjust', 'rpartition', 'rsplit', 'rstrip', 'split', 'splitlines', 'startswith', 'strip', 'swapcase', 'title', 'translate', 'upper', 'zfill']\n"
     ]
    }
   ],
   "source": [
    "print(dir(str))"
   ]
  },
  {
   "cell_type": "code",
   "execution_count": 59,
   "id": "d130680b",
   "metadata": {},
   "outputs": [
    {
     "name": "stdout",
     "output_type": "stream",
     "text": [
      "To civil branch\n"
     ]
    }
   ],
   "source": [
    "s1=\"to civil branch\"\n",
    "print(s1.capitalize())"
   ]
  },
  {
   "cell_type": "code",
   "execution_count": 61,
   "id": "cb37d7ce",
   "metadata": {},
   "outputs": [
    {
     "name": "stdout",
     "output_type": "stream",
     "text": [
      "Welcome to apssdc\n"
     ]
    }
   ],
   "source": [
    "s2=\"welcome TO Apssdc\"\n",
    "print(s2.capitalize())"
   ]
  },
  {
   "cell_type": "code",
   "execution_count": 62,
   "id": "bdaae0a4",
   "metadata": {},
   "outputs": [
    {
     "name": "stdout",
     "output_type": "stream",
     "text": [
      "SRIT COLLEGE\n"
     ]
    }
   ],
   "source": [
    "s2=\"srit college\"\n",
    "print(s2.upper())"
   ]
  },
  {
   "cell_type": "code",
   "execution_count": 63,
   "id": "06c60979",
   "metadata": {},
   "outputs": [
    {
     "name": "stdout",
     "output_type": "stream",
     "text": [
      "apssdc python\n"
     ]
    }
   ],
   "source": [
    "s3=\"APSSDC PYTHON\"\n",
    "print(s3.lower())"
   ]
  },
  {
   "cell_type": "code",
   "execution_count": 64,
   "id": "c4ddaa40",
   "metadata": {},
   "outputs": [
    {
     "name": "stdout",
     "output_type": "stream",
     "text": [
      "Apssdc Welcome To Python Programming\n"
     ]
    }
   ],
   "source": [
    "s2=\"apssdc welcome to python programming\"\n",
    "print(s2.title())"
   ]
  },
  {
   "cell_type": "code",
   "execution_count": 65,
   "id": "b1ace0f1",
   "metadata": {},
   "outputs": [
    {
     "name": "stdout",
     "output_type": "stream",
     "text": [
      "apSSdc pYTHON prograMMING\n"
     ]
    }
   ],
   "source": [
    "s3 =\"APssDC Python PROGRAmming\"\n",
    "print(s3.swapcase())"
   ]
  },
  {
   "cell_type": "code",
   "execution_count": 67,
   "id": "2034659d",
   "metadata": {},
   "outputs": [
    {
     "name": "stdout",
     "output_type": "stream",
     "text": [
      "False\n"
     ]
    }
   ],
   "source": [
    "s1 = \"civiL students\"\n",
    "print(s1.islower())"
   ]
  },
  {
   "cell_type": "code",
   "execution_count": 70,
   "id": "808affb0",
   "metadata": {},
   "outputs": [
    {
     "name": "stdout",
     "output_type": "stream",
     "text": [
      "True\n"
     ]
    }
   ],
   "source": [
    "s2 =\"CIVIL BRANCH\"\n",
    "print(s2.isupper())"
   ]
  },
  {
   "cell_type": "code",
   "execution_count": 72,
   "id": "62ea767d",
   "metadata": {},
   "outputs": [
    {
     "name": "stdout",
     "output_type": "stream",
     "text": [
      "False\n"
     ]
    }
   ],
   "source": [
    "s3 =\"apssdc1234\"\n",
    "print(s3.isalpha())"
   ]
  },
  {
   "cell_type": "code",
   "execution_count": 73,
   "id": "182a2ddb",
   "metadata": {},
   "outputs": [
    {
     "name": "stdout",
     "output_type": "stream",
     "text": [
      "True\n"
     ]
    }
   ],
   "source": [
    "s4 =\"35354\"\n",
    "print(s4.isdigit())"
   ]
  },
  {
   "cell_type": "code",
   "execution_count": 74,
   "id": "1441404e",
   "metadata": {},
   "outputs": [
    {
     "name": "stdout",
     "output_type": "stream",
     "text": [
      "True\n"
     ]
    }
   ],
   "source": [
    "s5 = \"python123programing\"\n",
    "print(s5.isalnum())"
   ]
  },
  {
   "cell_type": "code",
   "execution_count": 77,
   "id": "b81f8b34",
   "metadata": {},
   "outputs": [
    {
     "name": "stdout",
     "output_type": "stream",
     "text": [
      "Wello everyone sdc welcome sdc python!\n",
      "HTllo TvTryonT sdc wTlcomT sdc python!\n",
      "Hello everyone apssdc welcome apssdc python!\n"
     ]
    }
   ],
   "source": [
    "# replace(old_string,new_string)\n",
    "s1 = \"Hello everyone sdc welcome sdc python!\"\n",
    "print(s1.replace('H','W'))\n",
    "print(s1.replace('e','T'))\n",
    "print(s1.replace('sdc','apssdc'))"
   ]
  },
  {
   "cell_type": "code",
   "execution_count": 80,
   "id": "d5a2d07a",
   "metadata": {},
   "outputs": [
    {
     "name": "stdout",
     "output_type": "stream",
     "text": [
      "3\n",
      "16\n"
     ]
    }
   ],
   "source": [
    "# index poition value..\n",
    "s2=\"welcome to srit college\"\n",
    "print(s2.index('c'))\n",
    "print(s2.rindex('c'))"
   ]
  },
  {
   "cell_type": "code",
   "execution_count": 81,
   "id": "891886be",
   "metadata": {},
   "outputs": [
    {
     "name": "stdout",
     "output_type": "stream",
     "text": [
      "True\n"
     ]
    }
   ],
   "source": [
    "# startswith()\n",
    "s1=\"srit college\"\n",
    "print(s1.startswith('s'))"
   ]
  },
  {
   "cell_type": "code",
   "execution_count": 82,
   "id": "3945ca96",
   "metadata": {},
   "outputs": [
    {
     "name": "stdout",
     "output_type": "stream",
     "text": [
      "True\n"
     ]
    }
   ],
   "source": [
    "# endswith()\n",
    "s2 =\"srit college\"\n",
    "print(s2.endswith('e'))"
   ]
  },
  {
   "cell_type": "markdown",
   "id": "ecf5297e",
   "metadata": {},
   "source": [
    "### Data structures:\n",
    "        - 1. List\n",
    "        - 2. Tuple\n",
    "        - 3. Dictionary\n",
    "        - 4. Set"
   ]
  },
  {
   "cell_type": "markdown",
   "id": "89dd38e9",
   "metadata": {},
   "source": [
    "### 1. List:\n",
    "        - It is collection of different data items.\n",
    "        - In python list is written in square brackets'[]'.\n",
    "        - List is ordered collection data.\n",
    "        - List is mutable(changable)."
   ]
  },
  {
   "cell_type": "code",
   "execution_count": 83,
   "id": "1dc28337",
   "metadata": {},
   "outputs": [
    {
     "name": "stdout",
     "output_type": "stream",
     "text": [
      "[10, 100, 'srit', 23.5, 203, 'python']\n"
     ]
    }
   ],
   "source": [
    "L1 = [10,100,'srit',23.5,203,'python']\n",
    "print(L1)"
   ]
  },
  {
   "cell_type": "markdown",
   "id": "d3ea2282",
   "metadata": {},
   "source": [
    "### indexing and slicing:"
   ]
  },
  {
   "cell_type": "code",
   "execution_count": 87,
   "id": "7bfe88dc",
   "metadata": {},
   "outputs": [
    {
     "name": "stdout",
     "output_type": "stream",
     "text": [
      "[10, 100, 'srit', 23.5, 203, 'python']\n",
      "srit\n",
      "python\n",
      "['python', 203, 23.5, 'srit', 100, 10]\n"
     ]
    }
   ],
   "source": [
    "# TO access elements from list..\n",
    "print(L1)\n",
    "print(L1[2])\n",
    "print(L1[-1])\n",
    "print(L1[::-1])"
   ]
  },
  {
   "cell_type": "code",
   "execution_count": 89,
   "id": "59ce5547",
   "metadata": {},
   "outputs": [
    {
     "name": "stdout",
     "output_type": "stream",
     "text": [
      "[10, 100, 'srit', 23.5, 203, 'python']\n",
      "[10, 234, 'srit', 23.5, 203, 'python']\n"
     ]
    }
   ],
   "source": [
    "# To update the values to the list based on index position.\n",
    "print(L1)\n",
    "L1[1] = 234\n",
    "print(L1)"
   ]
  },
  {
   "cell_type": "markdown",
   "id": "7b880af1",
   "metadata": {},
   "source": [
    "### List Methods:"
   ]
  },
  {
   "cell_type": "code",
   "execution_count": 90,
   "id": "05686124",
   "metadata": {},
   "outputs": [
    {
     "name": "stdout",
     "output_type": "stream",
     "text": [
      "['__add__', '__class__', '__contains__', '__delattr__', '__delitem__', '__dir__', '__doc__', '__eq__', '__format__', '__ge__', '__getattribute__', '__getitem__', '__gt__', '__hash__', '__iadd__', '__imul__', '__init__', '__init_subclass__', '__iter__', '__le__', '__len__', '__lt__', '__mul__', '__ne__', '__new__', '__reduce__', '__reduce_ex__', '__repr__', '__reversed__', '__rmul__', '__setattr__', '__setitem__', '__sizeof__', '__str__', '__subclasshook__', 'append', 'clear', 'copy', 'count', 'extend', 'index', 'insert', 'pop', 'remove', 'reverse', 'sort']\n"
     ]
    }
   ],
   "source": [
    "print(dir(list))"
   ]
  },
  {
   "cell_type": "code",
   "execution_count": 92,
   "id": "6b7f4b44",
   "metadata": {},
   "outputs": [
    {
     "name": "stdout",
     "output_type": "stream",
     "text": [
      "[10, 23, 45, 12, 56]\n",
      "[10, 23, 45, 12, 56, 100]\n"
     ]
    }
   ],
   "source": [
    "# append() method:- TO add the new element..\n",
    "L2 = [10,23,45,12,56]\n",
    "print(L2)\n",
    "L2.append(100)\n",
    "print(L2)"
   ]
  },
  {
   "cell_type": "code",
   "execution_count": 94,
   "id": "8b7c71fc",
   "metadata": {},
   "outputs": [
    {
     "name": "stdout",
     "output_type": "stream",
     "text": [
      "[10, 23, 45, 12, 56, 100]\n",
      "[10, 23, 45, 12, 56, 100, 22, 33, 44]\n"
     ]
    }
   ],
   "source": [
    "# extend() method:\n",
    "print(L2)\n",
    "L2.extend([22,33,44])\n",
    "print(L2)"
   ]
  },
  {
   "cell_type": "code",
   "execution_count": 96,
   "id": "fcd793e5",
   "metadata": {},
   "outputs": [
    {
     "name": "stdout",
     "output_type": "stream",
     "text": [
      "[10, 23, 45, 12, 56, 100, 22, 33, 44]\n",
      "[10, 23, 400, 45, 12, 56, 100, 22, 33, 44]\n"
     ]
    }
   ],
   "source": [
    "# insert(position,new_element)\n",
    "print(L2)\n",
    "L2.insert(2,400)\n",
    "print(L2)"
   ]
  },
  {
   "cell_type": "code",
   "execution_count": 99,
   "id": "f2230077",
   "metadata": {},
   "outputs": [
    {
     "name": "stdout",
     "output_type": "stream",
     "text": [
      "[10, 20, 10, 20, 30, 20, 10, 10]\n",
      "3\n",
      "0\n"
     ]
    }
   ],
   "source": [
    "L3 = [10,20,10,20,30,20,10,10]\n",
    "print(L3)\n",
    "# count()\n",
    "print(L3.count(20))\n",
    "print(L3.count(200))"
   ]
  },
  {
   "cell_type": "code",
   "execution_count": 102,
   "id": "c8f47b35",
   "metadata": {},
   "outputs": [
    {
     "name": "stdout",
     "output_type": "stream",
     "text": [
      "[10, 23, 400, 45, 12, 56, 100, 22, 33, 44]\n",
      "2\n"
     ]
    },
    {
     "ename": "ValueError",
     "evalue": "55 is not in list",
     "output_type": "error",
     "traceback": [
      "\u001b[1;31m---------------------------------------------------------------------------\u001b[0m",
      "\u001b[1;31mValueError\u001b[0m                                Traceback (most recent call last)",
      "\u001b[1;32m<ipython-input-102-dbc1db56248d>\u001b[0m in \u001b[0;36m<module>\u001b[1;34m\u001b[0m\n\u001b[0;32m      2\u001b[0m \u001b[0mprint\u001b[0m\u001b[1;33m(\u001b[0m\u001b[0mL2\u001b[0m\u001b[1;33m)\u001b[0m\u001b[1;33m\u001b[0m\u001b[1;33m\u001b[0m\u001b[0m\n\u001b[0;32m      3\u001b[0m \u001b[0mprint\u001b[0m\u001b[1;33m(\u001b[0m\u001b[0mL2\u001b[0m\u001b[1;33m.\u001b[0m\u001b[0mindex\u001b[0m\u001b[1;33m(\u001b[0m\u001b[1;36m400\u001b[0m\u001b[1;33m)\u001b[0m\u001b[1;33m)\u001b[0m\u001b[1;33m\u001b[0m\u001b[1;33m\u001b[0m\u001b[0m\n\u001b[1;32m----> 4\u001b[1;33m \u001b[0mprint\u001b[0m\u001b[1;33m(\u001b[0m\u001b[0mL2\u001b[0m\u001b[1;33m.\u001b[0m\u001b[0mindex\u001b[0m\u001b[1;33m(\u001b[0m\u001b[1;36m55\u001b[0m\u001b[1;33m)\u001b[0m\u001b[1;33m)\u001b[0m\u001b[1;33m\u001b[0m\u001b[1;33m\u001b[0m\u001b[0m\n\u001b[0m",
      "\u001b[1;31mValueError\u001b[0m: 55 is not in list"
     ]
    }
   ],
   "source": [
    "#index()\n",
    "print(L2)\n",
    "print(L2.index(400))\n",
    "print(L2.index(55))"
   ]
  },
  {
   "cell_type": "code",
   "execution_count": 105,
   "id": "4c9d996e",
   "metadata": {},
   "outputs": [
    {
     "name": "stdout",
     "output_type": "stream",
     "text": [
      "[10, 23, 400, 45, 12, 56, 100, 22, 33]\n",
      "33\n",
      "23\n"
     ]
    }
   ],
   "source": [
    "#pop()-> TO delete an element from the list -> index\n",
    "print(L2)\n",
    "print(L2.pop())\n",
    "print(L2.pop(1))"
   ]
  },
  {
   "cell_type": "code",
   "execution_count": 108,
   "id": "7e3440ac",
   "metadata": {},
   "outputs": [
    {
     "name": "stdout",
     "output_type": "stream",
     "text": [
      "[10, 400, 45, 12, 56, 22]\n"
     ]
    },
    {
     "ename": "ValueError",
     "evalue": "list.remove(x): x not in list",
     "output_type": "error",
     "traceback": [
      "\u001b[1;31m---------------------------------------------------------------------------\u001b[0m",
      "\u001b[1;31mValueError\u001b[0m                                Traceback (most recent call last)",
      "\u001b[1;32m<ipython-input-108-fa0e421098fc>\u001b[0m in \u001b[0;36m<module>\u001b[1;34m\u001b[0m\n\u001b[0;32m      1\u001b[0m \u001b[1;31m# remove()-> TO pass the element\u001b[0m\u001b[1;33m\u001b[0m\u001b[1;33m\u001b[0m\u001b[1;33m\u001b[0m\u001b[0m\n\u001b[0;32m      2\u001b[0m \u001b[0mprint\u001b[0m\u001b[1;33m(\u001b[0m\u001b[0mL2\u001b[0m\u001b[1;33m)\u001b[0m\u001b[1;33m\u001b[0m\u001b[1;33m\u001b[0m\u001b[0m\n\u001b[1;32m----> 3\u001b[1;33m \u001b[0mL2\u001b[0m\u001b[1;33m.\u001b[0m\u001b[0mremove\u001b[0m\u001b[1;33m(\u001b[0m\u001b[1;36m100\u001b[0m\u001b[1;33m)\u001b[0m\u001b[1;33m\u001b[0m\u001b[1;33m\u001b[0m\u001b[0m\n\u001b[0m\u001b[0;32m      4\u001b[0m \u001b[0mprint\u001b[0m\u001b[1;33m(\u001b[0m\u001b[0mL2\u001b[0m\u001b[1;33m)\u001b[0m\u001b[1;33m\u001b[0m\u001b[1;33m\u001b[0m\u001b[0m\n",
      "\u001b[1;31mValueError\u001b[0m: list.remove(x): x not in list"
     ]
    }
   ],
   "source": [
    "# remove()-> TO pass the element\n",
    "print(L2)\n",
    "L2.remove(100)\n",
    "print(L2)"
   ]
  },
  {
   "cell_type": "code",
   "execution_count": 110,
   "id": "a0ed88d0",
   "metadata": {},
   "outputs": [
    {
     "name": "stdout",
     "output_type": "stream",
     "text": [
      "[10, 400, 45, 12, 56, 22]\n",
      "[10, 400, 45, 12, 56, 22]\n"
     ]
    }
   ],
   "source": [
    "# copy()\n",
    "print(L2)\n",
    "L3 = L2.copy()\n",
    "print(L3)"
   ]
  },
  {
   "cell_type": "code",
   "execution_count": 114,
   "id": "9d906d22",
   "metadata": {},
   "outputs": [
    {
     "name": "stdout",
     "output_type": "stream",
     "text": [
      "[10, 400, 45, 12, 56, 22]\n",
      "[22, 56, 12, 45, 400, 10]\n"
     ]
    }
   ],
   "source": [
    "# reverse()\n",
    "print(L2)\n",
    "L2.reverse()\n",
    "print(L2)"
   ]
  },
  {
   "cell_type": "code",
   "execution_count": 116,
   "id": "2370a9e7",
   "metadata": {},
   "outputs": [
    {
     "name": "stdout",
     "output_type": "stream",
     "text": [
      "[22, 56, 12, 45, 400, 10]\n",
      "[10, 12, 22, 45, 56, 400]\n"
     ]
    }
   ],
   "source": [
    "# sort()\n",
    "print(L2)\n",
    "L2.sort()\n",
    "print(L2)"
   ]
  },
  {
   "cell_type": "code",
   "execution_count": 118,
   "id": "f766a327",
   "metadata": {},
   "outputs": [
    {
     "name": "stdout",
     "output_type": "stream",
     "text": [
      "[10, 12, 22, 45, 56, 400]\n",
      "[]\n"
     ]
    }
   ],
   "source": [
    "#clear()-> TO clear the data from list..\n",
    "print(L2)\n",
    "L2.clear()\n",
    "print(L2)"
   ]
  },
  {
   "cell_type": "markdown",
   "id": "3563174e",
   "metadata": {},
   "source": [
    "### 2. Tuple:\n",
    "            - Collection different data items..\n",
    "            - In python tuples are written round brackets '()'.\n",
    "            - It is immutable(not changable).\n",
    "            - It is also ordered collection of data."
   ]
  },
  {
   "cell_type": "code",
   "execution_count": 120,
   "id": "41fdbf3b",
   "metadata": {},
   "outputs": [
    {
     "name": "stdout",
     "output_type": "stream",
     "text": [
      "(10, 20, 'apssdc', 23.0)\n",
      "<class 'tuple'>\n"
     ]
    }
   ],
   "source": [
    "t1 = (10,20,'apssdc',23.0)\n",
    "print(t1)\n",
    "print(type(t1))"
   ]
  },
  {
   "cell_type": "code",
   "execution_count": 123,
   "id": "6fed40c3",
   "metadata": {},
   "outputs": [
    {
     "name": "stdout",
     "output_type": "stream",
     "text": [
      "(100,)\n",
      "<class 'tuple'>\n"
     ]
    }
   ],
   "source": [
    "t2 =(100,)\n",
    "print(t2)\n",
    "print(type(t2))"
   ]
  },
  {
   "cell_type": "code",
   "execution_count": 125,
   "id": "23d9fbf4",
   "metadata": {},
   "outputs": [
    {
     "name": "stdout",
     "output_type": "stream",
     "text": [
      "20\n"
     ]
    }
   ],
   "source": [
    "print(t1[1])"
   ]
  },
  {
   "cell_type": "code",
   "execution_count": 127,
   "id": "1d6e08b9",
   "metadata": {},
   "outputs": [
    {
     "name": "stdout",
     "output_type": "stream",
     "text": [
      "(10, 20, 'apssdc', 23.0)\n"
     ]
    },
    {
     "ename": "TypeError",
     "evalue": "'tuple' object does not support item assignment",
     "output_type": "error",
     "traceback": [
      "\u001b[1;31m---------------------------------------------------------------------------\u001b[0m",
      "\u001b[1;31mTypeError\u001b[0m                                 Traceback (most recent call last)",
      "\u001b[1;32m<ipython-input-127-3cdb33910521>\u001b[0m in \u001b[0;36m<module>\u001b[1;34m\u001b[0m\n\u001b[0;32m      1\u001b[0m \u001b[1;31m# update the value to the tuple..\u001b[0m\u001b[1;33m\u001b[0m\u001b[1;33m\u001b[0m\u001b[1;33m\u001b[0m\u001b[0m\n\u001b[0;32m      2\u001b[0m \u001b[0mprint\u001b[0m\u001b[1;33m(\u001b[0m\u001b[0mt1\u001b[0m\u001b[1;33m)\u001b[0m\u001b[1;33m\u001b[0m\u001b[1;33m\u001b[0m\u001b[0m\n\u001b[1;32m----> 3\u001b[1;33m \u001b[0mt1\u001b[0m\u001b[1;33m[\u001b[0m\u001b[1;36m1\u001b[0m\u001b[1;33m]\u001b[0m\u001b[1;33m=\u001b[0m\u001b[1;36m100\u001b[0m\u001b[1;33m\u001b[0m\u001b[1;33m\u001b[0m\u001b[0m\n\u001b[0m\u001b[0;32m      4\u001b[0m \u001b[0mprint\u001b[0m\u001b[1;33m(\u001b[0m\u001b[0mt1\u001b[0m\u001b[1;33m)\u001b[0m\u001b[1;33m\u001b[0m\u001b[1;33m\u001b[0m\u001b[0m\n",
      "\u001b[1;31mTypeError\u001b[0m: 'tuple' object does not support item assignment"
     ]
    }
   ],
   "source": [
    "# update the value to the tuple..\n",
    "print(t1)\n",
    "t1[1]=100\n",
    "print(t1)"
   ]
  },
  {
   "cell_type": "markdown",
   "id": "c9b042d6",
   "metadata": {},
   "source": [
    "### tuple mthods"
   ]
  },
  {
   "cell_type": "code",
   "execution_count": 128,
   "id": "48725c88",
   "metadata": {},
   "outputs": [
    {
     "name": "stdout",
     "output_type": "stream",
     "text": [
      "['__add__', '__class__', '__contains__', '__delattr__', '__dir__', '__doc__', '__eq__', '__format__', '__ge__', '__getattribute__', '__getitem__', '__getnewargs__', '__gt__', '__hash__', '__init__', '__init_subclass__', '__iter__', '__le__', '__len__', '__lt__', '__mul__', '__ne__', '__new__', '__reduce__', '__reduce_ex__', '__repr__', '__rmul__', '__setattr__', '__sizeof__', '__str__', '__subclasshook__', 'count', 'index']\n"
     ]
    }
   ],
   "source": [
    "print(dir(tuple))"
   ]
  },
  {
   "cell_type": "code",
   "execution_count": 130,
   "id": "f3e7f4d4",
   "metadata": {},
   "outputs": [
    {
     "name": "stdout",
     "output_type": "stream",
     "text": [
      "2\n"
     ]
    }
   ],
   "source": [
    "#count()\n",
    "t3 = (10,20,30,10,20)\n",
    "print(t3.count(10))"
   ]
  },
  {
   "cell_type": "code",
   "execution_count": 132,
   "id": "42e455d3",
   "metadata": {},
   "outputs": [
    {
     "name": "stdout",
     "output_type": "stream",
     "text": [
      "2\n"
     ]
    },
    {
     "ename": "ValueError",
     "evalue": "tuple.index(x): x not in tuple",
     "output_type": "error",
     "traceback": [
      "\u001b[1;31m---------------------------------------------------------------------------\u001b[0m",
      "\u001b[1;31mValueError\u001b[0m                                Traceback (most recent call last)",
      "\u001b[1;32m<ipython-input-132-ab75c5b62589>\u001b[0m in \u001b[0;36m<module>\u001b[1;34m\u001b[0m\n\u001b[0;32m      1\u001b[0m \u001b[1;31m#index()\u001b[0m\u001b[1;33m\u001b[0m\u001b[1;33m\u001b[0m\u001b[1;33m\u001b[0m\u001b[0m\n\u001b[0;32m      2\u001b[0m \u001b[0mprint\u001b[0m\u001b[1;33m(\u001b[0m\u001b[0mt3\u001b[0m\u001b[1;33m.\u001b[0m\u001b[0mindex\u001b[0m\u001b[1;33m(\u001b[0m\u001b[1;36m30\u001b[0m\u001b[1;33m)\u001b[0m\u001b[1;33m)\u001b[0m\u001b[1;33m\u001b[0m\u001b[1;33m\u001b[0m\u001b[0m\n\u001b[1;32m----> 3\u001b[1;33m \u001b[0mprint\u001b[0m\u001b[1;33m(\u001b[0m\u001b[0mt3\u001b[0m\u001b[1;33m.\u001b[0m\u001b[0mindex\u001b[0m\u001b[1;33m(\u001b[0m\u001b[1;36m100\u001b[0m\u001b[1;33m)\u001b[0m\u001b[1;33m)\u001b[0m\u001b[1;33m\u001b[0m\u001b[1;33m\u001b[0m\u001b[0m\n\u001b[0m",
      "\u001b[1;31mValueError\u001b[0m: tuple.index(x): x not in tuple"
     ]
    }
   ],
   "source": [
    "#index()\n",
    "print(t3.index(30))\n",
    "print(t3.index(100))"
   ]
  },
  {
   "cell_type": "markdown",
   "id": "c24074ef",
   "metadata": {},
   "source": [
    "### dictionary:\n",
    "        - It is unordered collection of data.\n",
    "        - In python ditionaries are writen in curly brackets'{}'.\n",
    "        - data will be stored in form of key and value({key:value})->item.\n",
    "        - key names are unique.\n",
    "        - To access the dictionary values based on keyname."
   ]
  },
  {
   "cell_type": "code",
   "execution_count": 134,
   "id": "d08f5a0b",
   "metadata": {},
   "outputs": [
    {
     "name": "stdout",
     "output_type": "stream",
     "text": [
      "{'name': 'raju', 'rollno': 101, 'marks': 45}\n",
      "<class 'dict'>\n"
     ]
    }
   ],
   "source": [
    "d1 = {'name':'raju','rollno':101,'marks':45}\n",
    "print(d1)\n",
    "print(type(d1))"
   ]
  },
  {
   "cell_type": "code",
   "execution_count": 135,
   "id": "4b8cd096",
   "metadata": {},
   "outputs": [
    {
     "data": {
      "text/plain": [
       "'raju'"
      ]
     },
     "execution_count": 135,
     "metadata": {},
     "output_type": "execute_result"
    }
   ],
   "source": [
    "# TO access the value based on keyname..\n",
    "d1['name']"
   ]
  },
  {
   "cell_type": "code",
   "execution_count": 138,
   "id": "c93ae669",
   "metadata": {},
   "outputs": [
    {
     "name": "stdout",
     "output_type": "stream",
     "text": [
      "{'name': 'raghu', 'rollno': 101, 'marks': 45}\n",
      "{'name': 'raghu', 'rollno': 101, 'marks': 45}\n",
      "{'name': 'raghu', 'rollno': 101, 'marks': 45, 'branch': 'civil'}\n"
     ]
    }
   ],
   "source": [
    "# To update the value to the dictionary..\n",
    "print(d1)\n",
    "d1['name']='raghu'\n",
    "print(d1)\n",
    "d1['branch']='civil'\n",
    "print(d1)"
   ]
  },
  {
   "cell_type": "markdown",
   "id": "5a4b26c0",
   "metadata": {},
   "source": [
    "### sets:\n",
    "        - It is unordered collection data.\n",
    "        - In python sets are written in curly brackets'{}'\n",
    "        - duplication of data not allowed."
   ]
  },
  {
   "cell_type": "code",
   "execution_count": 139,
   "id": "b3274186",
   "metadata": {},
   "outputs": [
    {
     "name": "stdout",
     "output_type": "stream",
     "text": [
      "{10, 20, 30}\n"
     ]
    }
   ],
   "source": [
    "s1={10,20,10,20,30,10}\n",
    "print(s1)"
   ]
  },
  {
   "cell_type": "code",
   "execution_count": null,
   "id": "0e84fc67",
   "metadata": {},
   "outputs": [],
   "source": []
  }
 ],
 "metadata": {
  "kernelspec": {
   "display_name": "Python 3",
   "language": "python",
   "name": "python3"
  },
  "language_info": {
   "codemirror_mode": {
    "name": "ipython",
    "version": 3
   },
   "file_extension": ".py",
   "mimetype": "text/x-python",
   "name": "python",
   "nbconvert_exporter": "python",
   "pygments_lexer": "ipython3",
   "version": "3.7.5"
  }
 },
 "nbformat": 4,
 "nbformat_minor": 5
}
