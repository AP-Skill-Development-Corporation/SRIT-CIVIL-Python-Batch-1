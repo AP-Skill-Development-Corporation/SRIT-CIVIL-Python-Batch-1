{
 "cells": [
  {
   "cell_type": "markdown",
   "id": "66b29723",
   "metadata": {},
   "source": [
    "# Heading1\n",
    "## Heading2\n",
    "### Heading3\n",
    "#### Heading4\n",
    "##### Heading5\n",
    "###### Heading6\n",
    "#### To change the cell into code mode to markdown mode we can press (esc+m)"
   ]
  },
  {
   "cell_type": "markdown",
   "id": "5ada578e",
   "metadata": {},
   "source": [
    "**Bold**\n",
    "*Italic*"
   ]
  },
  {
   "cell_type": "markdown",
   "id": "ffe87888",
   "metadata": {},
   "source": [
    "# Python Basics"
   ]
  },
  {
   "cell_type": "markdown",
   "id": "16f19f66",
   "metadata": {},
   "source": [
    "### Variable:\n",
    "        - It stores a value.\n",
    "        - It changes a value."
   ]
  },
  {
   "cell_type": "code",
   "execution_count": 1,
   "id": "75fedbf0",
   "metadata": {},
   "outputs": [
    {
     "data": {
      "text/plain": [
       "20"
      ]
     },
     "execution_count": 1,
     "metadata": {},
     "output_type": "execute_result"
    }
   ],
   "source": [
    "a = 20\n",
    "a"
   ]
  },
  {
   "cell_type": "code",
   "execution_count": 2,
   "id": "89657b38",
   "metadata": {},
   "outputs": [
    {
     "data": {
      "text/plain": [
       "30"
      ]
     },
     "execution_count": 2,
     "metadata": {},
     "output_type": "execute_result"
    }
   ],
   "source": [
    "b = 30\n",
    "a\n",
    "b"
   ]
  },
  {
   "cell_type": "code",
   "execution_count": 3,
   "id": "46726152",
   "metadata": {},
   "outputs": [
    {
     "data": {
      "text/plain": [
       "34.523"
      ]
     },
     "execution_count": 3,
     "metadata": {},
     "output_type": "execute_result"
    }
   ],
   "source": [
    "c,d = 34.523,\"python\"\n",
    "d\n",
    "c"
   ]
  },
  {
   "cell_type": "code",
   "execution_count": 4,
   "id": "d76dffa0",
   "metadata": {},
   "outputs": [
    {
     "data": {
      "text/plain": [
       "'python'"
      ]
     },
     "execution_count": 4,
     "metadata": {},
     "output_type": "execute_result"
    }
   ],
   "source": [
    "d"
   ]
  },
  {
   "cell_type": "code",
   "execution_count": 5,
   "id": "7c42402a",
   "metadata": {},
   "outputs": [
    {
     "data": {
      "text/plain": [
       "(34.523, 'python')"
      ]
     },
     "execution_count": 5,
     "metadata": {},
     "output_type": "execute_result"
    }
   ],
   "source": [
    "c,d"
   ]
  },
  {
   "cell_type": "code",
   "execution_count": 8,
   "id": "f2facf22",
   "metadata": {},
   "outputs": [
    {
     "data": {
      "text/plain": [
       "(0, 0, 0)"
      ]
     },
     "execution_count": 8,
     "metadata": {},
     "output_type": "execute_result"
    }
   ],
   "source": [
    "a=b=c=0\n",
    "a,b,c"
   ]
  },
  {
   "cell_type": "markdown",
   "id": "6beda2a6",
   "metadata": {},
   "source": [
    "### type() method:-\n",
    "    - To know the datatype of a variable."
   ]
  },
  {
   "cell_type": "code",
   "execution_count": 15,
   "id": "b8f08ced",
   "metadata": {},
   "outputs": [
    {
     "name": "stdout",
     "output_type": "stream",
     "text": [
      "23 <class 'int'>\n",
      "10.456 <class 'float'>\n",
      "civil <class 'str'>\n",
      "45.8 <class 'str'>\n"
     ]
    }
   ],
   "source": [
    "e,f,g,h = 23,10.456,\"civil\",'45.8'\n",
    "e,f,g,h\n",
    "print(e,type(e))\n",
    "print(f,type(f))\n",
    "print(g,type(g))\n",
    "print(h,type(h))"
   ]
  },
  {
   "cell_type": "markdown",
   "id": "67a986df",
   "metadata": {},
   "source": [
    "### DataTypes:\n",
    "    - int --> It accept only integer values\n",
    "    - float --> It accept interger and decimal values.\n",
    "    - str  --> It accept all values enclosed with single quotes or double quotes\n",
    "    - all types of data structures[List,Tuple,Set,Dictionary]-> It accept all data types like int,float,str..."
   ]
  },
  {
   "cell_type": "markdown",
   "id": "5dc49524",
   "metadata": {},
   "source": [
    "### input methods:\n",
    "    - 1. It reads a value from user.\n",
    "    - 2. By default the value of variable is always string."
   ]
  },
  {
   "cell_type": "code",
   "execution_count": 1,
   "id": "07ef5ed6",
   "metadata": {},
   "outputs": [
    {
     "name": "stdout",
     "output_type": "stream",
     "text": [
      "Enter n value...34\n",
      "34 <class 'str'>\n"
     ]
    }
   ],
   "source": [
    "#dynamic input reading type\n",
    "n = input(\"Enter n value...\")\n",
    "print(n,type(n))"
   ]
  },
  {
   "cell_type": "code",
   "execution_count": 17,
   "id": "1e48f4c3",
   "metadata": {},
   "outputs": [
    {
     "name": "stdout",
     "output_type": "stream",
     "text": [
      "100\n"
     ]
    }
   ],
   "source": [
    "# static input reading type\n",
    "m = 100 \n",
    "print(m)"
   ]
  },
  {
   "cell_type": "markdown",
   "id": "4865bd6f",
   "metadata": {},
   "source": [
    "### comments:\n",
    "        - single line comments -> #\n",
    "        - multi line comments  -> single tripple quotes or double triple quotes (''' statement1\n",
    "                   statements2 ''')\n",
    "               (\"\"\" statement1\n",
    "                    statement2 \"\"\")"
   ]
  },
  {
   "cell_type": "code",
   "execution_count": 2,
   "id": "a4b31cf6",
   "metadata": {
    "scrolled": true
   },
   "outputs": [
    {
     "name": "stdout",
     "output_type": "stream",
     "text": [
      "Enter a value: 23\n",
      "Enter b value: 45.67889012345\n",
      "23 <class 'str'> 45.67889012345 <class 'str'>\n"
     ]
    }
   ],
   "source": [
    "a,b = input(\"Enter a value: \"),input(\"Enter b value: \")\n",
    "print(a,type(a),b,type(b))"
   ]
  },
  {
   "cell_type": "markdown",
   "id": "348266a4",
   "metadata": {},
   "source": [
    "### Output formating:\n",
    "    - use coma(,)\n",
    "    - percentage(%)\n",
    "    - .(dot) format"
   ]
  },
  {
   "cell_type": "code",
   "execution_count": 12,
   "id": "6dec1561",
   "metadata": {},
   "outputs": [
    {
     "name": "stdout",
     "output_type": "stream",
     "text": [
      "Enter first value: 1\n",
      "Enter second value: 2\n",
      "Entered a value is:  1\n",
      "Entered b value is:  2\n",
      "Addition of  1 and 2 is:  3\n",
      "Subtraction of 1 and 2 is: -1\n",
      "Division of 2 and 1 is: 0.5\n",
      "<class 'str'> <class 'str'>\n"
     ]
    }
   ],
   "source": [
    "a = input(\"Enter first value: \")\n",
    "b = input(\"Enter second value: \")\n",
    "print(\"Entered a value is: \",a)\n",
    "print(\"Entered b value is: \",b)\n",
    "print(\"Addition of \",a,\"and\",b,\"is: \",int(a) + int(b))\n",
    "print(\"Subtraction of %d and %d is: %d\"%(int(a),int(b),int(a)-int(b)))\n",
    "print(\"Division of {1} and {0} is: {2}\".format(a,b,int(a) / int(b)))\n",
    "print(type(a),type(b))"
   ]
  },
  {
   "cell_type": "markdown",
   "id": "2e7e1f2c",
   "metadata": {},
   "source": [
    "### Type casting:\n",
    "    - To change a datatype from one datatype to another datatype.\n",
    "    - int(),float(),str(),all data structures.."
   ]
  },
  {
   "cell_type": "code",
   "execution_count": 3,
   "id": "00f05908",
   "metadata": {},
   "outputs": [
    {
     "name": "stdout",
     "output_type": "stream",
     "text": [
      "Enter a value: 34\n",
      "Entered value is:  34\n"
     ]
    }
   ],
   "source": [
    "n = input(\"Enter a value: \")\n",
    "print(\"Entered value is: \",n)"
   ]
  },
  {
   "cell_type": "code",
   "execution_count": 15,
   "id": "de600866",
   "metadata": {},
   "outputs": [
    {
     "name": "stdout",
     "output_type": "stream",
     "text": [
      "Enter a value: 20\n",
      "20 <class 'int'>\n"
     ]
    }
   ],
   "source": [
    "n = int(input(\"Enter a value: \"))\n",
    "print(n,type(n))"
   ]
  },
  {
   "cell_type": "code",
   "execution_count": null,
   "id": "c092caf4",
   "metadata": {},
   "outputs": [],
   "source": [
    "Input:\n",
    "    Enter Student Name: Ramu\n",
    "    Enter Student Age: 20\n",
    "    Enter Student Year: 3\n",
    "Output:\n",
    "    Entered Studnet Name is: Ramu\n",
    "    Student Age is: 20\n",
    "    Studying 3 Year B.Tech"
   ]
  },
  {
   "cell_type": "code",
   "execution_count": 19,
   "id": "6ad78915",
   "metadata": {},
   "outputs": [
    {
     "name": "stdout",
     "output_type": "stream",
     "text": [
      "Enter Student Name:Rajesh\n",
      "Enter Student Age:25\n",
      "Enter Student Year:2\n",
      "Entered Student Name is: Rajesh\n",
      "Student Age is: 25\n",
      "Studying in 2 Year B.Tech\n"
     ]
    }
   ],
   "source": [
    "a=input(\"Enter Student Name:\")\n",
    "b=input(\"Enter Student Age:\")\n",
    "c=input(\"Enter Student Year:\")\n",
    "# print(\"Entered Student Name is: {} \".format(a))\n",
    "# print(\"Student Age is: {} \".format(b))\n",
    "# print(\"Studying in {} Year B.Tech\".format(c))\n",
    "print(\"Entered Student Name is: {}\\nStudent Age is: {}\\n\"\n",
    "\"Studying in {} Year B.Tech\".format(a,b,c))"
   ]
  },
  {
   "cell_type": "code",
   "execution_count": 26,
   "id": "c3d64163",
   "metadata": {},
   "outputs": [
    {
     "name": "stdout",
     "output_type": "stream",
     "text": [
      "Enter an integer value: 12\n",
      "Enter a float value: 2.032165456\n",
      "Enter a number: 278\n",
      "Entered Integer Number is: 12 and its float value is: 12.0\n",
      "Entered Floating Number is: 2.032165456 and its integer Value is: 2\n",
      "Entered Number is: 278 Interger value is: 278 and floating Value is: 278.0\n"
     ]
    }
   ],
   "source": [
    "t = int(input(\"Enter an integer value: \"))\n",
    "n = float(input(\"Enter a float value: \"))\n",
    "s = input(\"Enter a number: \")\n",
    "print(\"Entered Integer Number is: {} \"\n",
    "      \"and its float value is: {}\\nEntered \"\n",
    "      \"Floating Number is: {} and its integer\"\n",
    "      \" Value is: {}\\nEntered Number is: {} \"\n",
    "      \"Interger value is: {} and floating Value is: {}\"\n",
    "      .format(t,float(t),n,int(n),s,int(s),float(s)))"
   ]
  },
  {
   "cell_type": "code",
   "execution_count": null,
   "id": "28f88f5d",
   "metadata": {},
   "outputs": [],
   "source": []
  },
  {
   "cell_type": "code",
   "execution_count": null,
   "id": "6e65f698",
   "metadata": {},
   "outputs": [],
   "source": []
  }
 ],
 "metadata": {
  "kernelspec": {
   "display_name": "Python 3",
   "language": "python",
   "name": "python3"
  },
  "language_info": {
   "codemirror_mode": {
    "name": "ipython",
    "version": 3
   },
   "file_extension": ".py",
   "mimetype": "text/x-python",
   "name": "python",
   "nbconvert_exporter": "python",
   "pygments_lexer": "ipython3",
   "version": "3.7.5"
  }
 },
 "nbformat": 4,
 "nbformat_minor": 5
}
